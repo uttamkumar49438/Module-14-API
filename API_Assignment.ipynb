{
  "nbformat": 4,
  "nbformat_minor": 0,
  "metadata": {
    "colab": {
      "provenance": []
    },
    "kernelspec": {
      "name": "python3",
      "display_name": "Python 3"
    },
    "language_info": {
      "name": "python"
    }
  },
  "cells": [
    {
      "cell_type": "markdown",
      "source": [
        "Q1. What is an API? Give an example, where an API is used in real life."
      ],
      "metadata": {
        "id": "xFtNQS3x4tl2"
      }
    },
    {
      "cell_type": "markdown",
      "source": [
        "An API (Application Programming Interface) is a set of rules, protocols, and tools that allows different software applications to communicate and interact with each other.\n",
        "\n",
        "the weather forecast API serves as a bridge between the weather data provider's database and the weather application, enabling the application to access and utilize weather data in real-time"
      ],
      "metadata": {
        "id": "E4cUsboZ5K06"
      }
    },
    {
      "cell_type": "markdown",
      "source": [
        "Q2. Give advantages and disadvantages of using API."
      ],
      "metadata": {
        "id": "50Wh9z_e4ucm"
      }
    },
    {
      "cell_type": "markdown",
      "source": [
        "APIs offer numerous benefits in terms of modularity, interoperability, and scalability, they also pose challenges related to dependency, security, compatibility, performance, and maintenance."
      ],
      "metadata": {
        "id": "br5xkDrF47uM"
      }
    },
    {
      "cell_type": "markdown",
      "source": [
        "Q3. What is a Web API? Differentiate between API and Web API."
      ],
      "metadata": {
        "id": "SAe6TBj142ZE"
      }
    },
    {
      "cell_type": "markdown",
      "source": [
        "Web APIs specifically refer to APIs that are exposed over the web using standard web protocols and are designed for remote access over the internet. APIs, on the other hand, encompass a broader range of interfaces used for communication and interaction between software applications or components, including both web-based and non-web-based scenarios.\n",
        "\n",
        "\n",
        "\n",
        "\n",
        "\n"
      ],
      "metadata": {
        "id": "vibkQt4A5Qhy"
      }
    },
    {
      "cell_type": "markdown",
      "source": [
        "Q4. Explain REST and SOAP Architecture. Mention shortcomings of SOAP."
      ],
      "metadata": {
        "id": "srct68wN5CcA"
      }
    },
    {
      "cell_type": "markdown",
      "source": [
        "SOAP offers features such as security, extensibility, and reliability, it also has drawbacks such as complexity, performance overhead, and tight coupling. REST, on the other hand, emphasizes simplicity, scalability, and loose coupling, making it a popular choice for designing web services in modern applications.\n",
        "\n",
        "Shortcomings of SOAP:\n",
        "- Complexity\n",
        "- Performance Overhead\n",
        "Tight Coupling"
      ],
      "metadata": {
        "id": "aVJ-jTHf5eu_"
      }
    },
    {
      "cell_type": "markdown",
      "source": [
        "Q5. Differentiate between REST and SOAP."
      ],
      "metadata": {
        "id": "aOKKBEOl5wjK"
      }
    },
    {
      "cell_type": "markdown",
      "source": [
        "EST and SOAP are two different architectural styles with distinct characteristics, message formats, and protocol choices. While REST emphasizes simplicity, scalability, and loose coupling, SOAP offers features such as security, reliability, and extensibility at the cost of complexity and tight coupling. The choice between REST and SOAP depends on factors such as the requirements of the application, interoperability needs, and the complexity of the system."
      ],
      "metadata": {
        "id": "7q2JJwC556t4"
      }
    },
    {
      "cell_type": "markdown",
      "source": [],
      "metadata": {
        "id": "2GjXYhT16ICP"
      }
    }
  ]
}